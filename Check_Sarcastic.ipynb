{
  "nbformat": 4,
  "nbformat_minor": 0,
  "metadata": {
    "colab": {
      "provenance": [],
      "authorship_tag": "ABX9TyOsoc5YKPGj5oE5r+exa7iT",
      "include_colab_link": true
    },
    "kernelspec": {
      "name": "python3",
      "display_name": "Python 3"
    },
    "language_info": {
      "name": "python"
    }
  },
  "cells": [
    {
      "cell_type": "markdown",
      "metadata": {
        "id": "view-in-github",
        "colab_type": "text"
      },
      "source": [
        "<a href=\"https://colab.research.google.com/github/naveencgr/TensorFlow/blob/main/Check_Sarcastic.ipynb\" target=\"_parent\"><img src=\"https://colab.research.google.com/assets/colab-badge.svg\" alt=\"Open In Colab\"/></a>"
      ]
    },
    {
      "cell_type": "code",
      "execution_count": 5,
      "metadata": {
        "id": "7QXg1OFfwH3z"
      },
      "outputs": [],
      "source": [
        "import tensorflow as tf\n",
        "import json\n",
        "\n",
        "from tensorflow.keras.preprocessing.text import Tokenizer\n",
        "from tensorflow.keras.preprocessing.sequence import pad_sequences"
      ]
    },
    {
      "cell_type": "code",
      "source": [
        "#constants\n",
        "tokenizer_no_of_words = 10000\n",
        "training_data_len = 20000\n",
        "tokenizer_oov_token =\"<OOV>\"\n",
        "pad_seq_truncate = \"post\"\n",
        "pad_seq_padding = \"post\"\n",
        "pad_max_length = 40\n",
        "embedding_dim = 16\n",
        "\n"
      ],
      "metadata": {
        "id": "dfJU7E4CxASJ"
      },
      "execution_count": 36,
      "outputs": []
    },
    {
      "cell_type": "code",
      "source": [
        "!wget https://storage.googleapis.com/learning-datasets/sarcasm.json -O /tmp/sarcasm.json"
      ],
      "metadata": {
        "colab": {
          "base_uri": "https://localhost:8080/"
        },
        "id": "K876FlzqxZnz",
        "outputId": "4b0e8232-ab33-4a1d-dd4d-a7a7b715c785"
      },
      "execution_count": 4,
      "outputs": [
        {
          "output_type": "stream",
          "name": "stdout",
          "text": [
            "--2025-03-29 16:41:42--  https://storage.googleapis.com/learning-datasets/sarcasm.json\n",
            "Resolving storage.googleapis.com (storage.googleapis.com)... 108.177.96.207, 108.177.119.207, 108.177.127.207, ...\n",
            "Connecting to storage.googleapis.com (storage.googleapis.com)|108.177.96.207|:443... connected.\n",
            "HTTP request sent, awaiting response... 200 OK\n",
            "Length: 5643545 (5.4M) [application/json]\n",
            "Saving to: ‘/tmp/sarcasm.json’\n",
            "\n",
            "/tmp/sarcasm.json   100%[===================>]   5.38M  7.11MB/s    in 0.8s    \n",
            "\n",
            "2025-03-29 16:41:44 (7.11 MB/s) - ‘/tmp/sarcasm.json’ saved [5643545/5643545]\n",
            "\n"
          ]
        }
      ]
    },
    {
      "cell_type": "code",
      "source": [
        "from os import truncate\n",
        "with open('/tmp/sarcasm.json', 'r') as f:\n",
        "  data = json.load(f)\n",
        "\n",
        "headlines_data = []\n",
        "sarcastic_data = []\n",
        "\n",
        "for item in data:\n",
        "  headlines_data.append(item['headline'])\n",
        "  sarcastic_data.append(item['is_sarcastic'])\n"
      ],
      "metadata": {
        "id": "KwNDoTN8yETH"
      },
      "execution_count": 20,
      "outputs": []
    },
    {
      "cell_type": "code",
      "source": [
        "training_data = headlines_data[ : training_data_len]\n",
        "testing_data = headlines_data [training_data_len: ]\n",
        "\n",
        "training_labes = sarcastic_data[ : training_data_len]\n",
        "testing_labes = sarcastic_data[ training_data_len: ]"
      ],
      "metadata": {
        "id": "lu0W_aMD3e8Y"
      },
      "execution_count": 23,
      "outputs": []
    },
    {
      "cell_type": "code",
      "source": [
        "tokenizer = Tokenizer(num_words= tokenizer_no_of_words, oov_token= tokenizer_oov_token )\n",
        "tokenizer.fit_on_texts(training_data)\n",
        "\n",
        "training_sequences = tokenizer.texts_to_sequences(training_data)\n",
        "training_pad_seq = pad_sequences(sequences= training_sequences, truncating= pad_seq_truncate, padding = pad_seq_padding, maxlen = pad_max_length)\n",
        "\n",
        "testing_sequences = tokenizer.texts_to_sequences(testing_data)\n",
        "testing_pad_seq = pad_sequences(sequences= testing_sequences, truncating= pad_seq_truncate, padding = pad_seq_padding, maxlen = pad_max_length)\n"
      ],
      "metadata": {
        "id": "9qyzxCk_3ode"
      },
      "execution_count": 32,
      "outputs": []
    },
    {
      "cell_type": "code",
      "source": [
        "import numpy as np\n",
        "\n",
        "np_training_data = np.array(training_pad_seq)\n",
        "np_training_labels = np.array(training_labes)\n",
        "\n",
        "np_testing_data = np.array(testing_pad_seq)\n",
        "np_testing_labels = np.array(testing_labes)\n",
        "\n"
      ],
      "metadata": {
        "id": "mQe8fTNR6k1c"
      },
      "execution_count": 33,
      "outputs": []
    },
    {
      "cell_type": "code",
      "source": [
        "model = tf.keras.Sequential([\n",
        "    tf.keras.layers.Embedding(tokenizer_no_of_words, embedding_dim, input_length=pad_max_length),\n",
        "    tf.keras.layers.GlobalAveragePooling1D(),\n",
        "    tf.keras.layers.Dense(24, activation='relu'),\n",
        "    tf.keras.layers.Dense(1, activation='sigmoid')\n",
        "])\n",
        "model.compile(loss='binary_crossentropy',optimizer='adam',metrics=['accuracy'])"
      ],
      "metadata": {
        "colab": {
          "base_uri": "https://localhost:8080/"
        },
        "id": "UyGD3nCs_DVs",
        "outputId": "8c93c26f-ef9f-49f1-ab50-a1b27d8c9d6a"
      },
      "execution_count": 37,
      "outputs": [
        {
          "output_type": "stream",
          "name": "stderr",
          "text": [
            "/usr/local/lib/python3.11/dist-packages/keras/src/layers/core/embedding.py:90: UserWarning: Argument `input_length` is deprecated. Just remove it.\n",
            "  warnings.warn(\n"
          ]
        }
      ]
    },
    {
      "cell_type": "code",
      "source": [
        "model.summary()\n"
      ],
      "metadata": {
        "colab": {
          "base_uri": "https://localhost:8080/",
          "height": 273
        },
        "id": "XaBxoTta_fwX",
        "outputId": "126f6bac-529b-4281-fa93-0757abde01f7"
      },
      "execution_count": 38,
      "outputs": [
        {
          "output_type": "display_data",
          "data": {
            "text/plain": [
              "\u001b[1mModel: \"sequential\"\u001b[0m\n"
            ],
            "text/html": [
              "<pre style=\"white-space:pre;overflow-x:auto;line-height:normal;font-family:Menlo,'DejaVu Sans Mono',consolas,'Courier New',monospace\"><span style=\"font-weight: bold\">Model: \"sequential\"</span>\n",
              "</pre>\n"
            ]
          },
          "metadata": {}
        },
        {
          "output_type": "display_data",
          "data": {
            "text/plain": [
              "┏━━━━━━━━━━━━━━━━━━━━━━━━━━━━━━━━━━━━━━┳━━━━━━━━━━━━━━━━━━━━━━━━━━━━━┳━━━━━━━━━━━━━━━━━┓\n",
              "┃\u001b[1m \u001b[0m\u001b[1mLayer (type)                        \u001b[0m\u001b[1m \u001b[0m┃\u001b[1m \u001b[0m\u001b[1mOutput Shape               \u001b[0m\u001b[1m \u001b[0m┃\u001b[1m \u001b[0m\u001b[1m        Param #\u001b[0m\u001b[1m \u001b[0m┃\n",
              "┡━━━━━━━━━━━━━━━━━━━━━━━━━━━━━━━━━━━━━━╇━━━━━━━━━━━━━━━━━━━━━━━━━━━━━╇━━━━━━━━━━━━━━━━━┩\n",
              "│ embedding (\u001b[38;5;33mEmbedding\u001b[0m)                │ ?                           │     \u001b[38;5;34m0\u001b[0m (unbuilt) │\n",
              "├──────────────────────────────────────┼─────────────────────────────┼─────────────────┤\n",
              "│ global_average_pooling1d             │ ?                           │               \u001b[38;5;34m0\u001b[0m │\n",
              "│ (\u001b[38;5;33mGlobalAveragePooling1D\u001b[0m)             │                             │                 │\n",
              "├──────────────────────────────────────┼─────────────────────────────┼─────────────────┤\n",
              "│ dense (\u001b[38;5;33mDense\u001b[0m)                        │ ?                           │     \u001b[38;5;34m0\u001b[0m (unbuilt) │\n",
              "├──────────────────────────────────────┼─────────────────────────────┼─────────────────┤\n",
              "│ dense_1 (\u001b[38;5;33mDense\u001b[0m)                      │ ?                           │     \u001b[38;5;34m0\u001b[0m (unbuilt) │\n",
              "└──────────────────────────────────────┴─────────────────────────────┴─────────────────┘\n"
            ],
            "text/html": [
              "<pre style=\"white-space:pre;overflow-x:auto;line-height:normal;font-family:Menlo,'DejaVu Sans Mono',consolas,'Courier New',monospace\">┏━━━━━━━━━━━━━━━━━━━━━━━━━━━━━━━━━━━━━━┳━━━━━━━━━━━━━━━━━━━━━━━━━━━━━┳━━━━━━━━━━━━━━━━━┓\n",
              "┃<span style=\"font-weight: bold\"> Layer (type)                         </span>┃<span style=\"font-weight: bold\"> Output Shape                </span>┃<span style=\"font-weight: bold\">         Param # </span>┃\n",
              "┡━━━━━━━━━━━━━━━━━━━━━━━━━━━━━━━━━━━━━━╇━━━━━━━━━━━━━━━━━━━━━━━━━━━━━╇━━━━━━━━━━━━━━━━━┩\n",
              "│ embedding (<span style=\"color: #0087ff; text-decoration-color: #0087ff\">Embedding</span>)                │ ?                           │     <span style=\"color: #00af00; text-decoration-color: #00af00\">0</span> (unbuilt) │\n",
              "├──────────────────────────────────────┼─────────────────────────────┼─────────────────┤\n",
              "│ global_average_pooling1d             │ ?                           │               <span style=\"color: #00af00; text-decoration-color: #00af00\">0</span> │\n",
              "│ (<span style=\"color: #0087ff; text-decoration-color: #0087ff\">GlobalAveragePooling1D</span>)             │                             │                 │\n",
              "├──────────────────────────────────────┼─────────────────────────────┼─────────────────┤\n",
              "│ dense (<span style=\"color: #0087ff; text-decoration-color: #0087ff\">Dense</span>)                        │ ?                           │     <span style=\"color: #00af00; text-decoration-color: #00af00\">0</span> (unbuilt) │\n",
              "├──────────────────────────────────────┼─────────────────────────────┼─────────────────┤\n",
              "│ dense_1 (<span style=\"color: #0087ff; text-decoration-color: #0087ff\">Dense</span>)                      │ ?                           │     <span style=\"color: #00af00; text-decoration-color: #00af00\">0</span> (unbuilt) │\n",
              "└──────────────────────────────────────┴─────────────────────────────┴─────────────────┘\n",
              "</pre>\n"
            ]
          },
          "metadata": {}
        },
        {
          "output_type": "display_data",
          "data": {
            "text/plain": [
              "\u001b[1m Total params: \u001b[0m\u001b[38;5;34m0\u001b[0m (0.00 B)\n"
            ],
            "text/html": [
              "<pre style=\"white-space:pre;overflow-x:auto;line-height:normal;font-family:Menlo,'DejaVu Sans Mono',consolas,'Courier New',monospace\"><span style=\"font-weight: bold\"> Total params: </span><span style=\"color: #00af00; text-decoration-color: #00af00\">0</span> (0.00 B)\n",
              "</pre>\n"
            ]
          },
          "metadata": {}
        },
        {
          "output_type": "display_data",
          "data": {
            "text/plain": [
              "\u001b[1m Trainable params: \u001b[0m\u001b[38;5;34m0\u001b[0m (0.00 B)\n"
            ],
            "text/html": [
              "<pre style=\"white-space:pre;overflow-x:auto;line-height:normal;font-family:Menlo,'DejaVu Sans Mono',consolas,'Courier New',monospace\"><span style=\"font-weight: bold\"> Trainable params: </span><span style=\"color: #00af00; text-decoration-color: #00af00\">0</span> (0.00 B)\n",
              "</pre>\n"
            ]
          },
          "metadata": {}
        },
        {
          "output_type": "display_data",
          "data": {
            "text/plain": [
              "\u001b[1m Non-trainable params: \u001b[0m\u001b[38;5;34m0\u001b[0m (0.00 B)\n"
            ],
            "text/html": [
              "<pre style=\"white-space:pre;overflow-x:auto;line-height:normal;font-family:Menlo,'DejaVu Sans Mono',consolas,'Courier New',monospace\"><span style=\"font-weight: bold\"> Non-trainable params: </span><span style=\"color: #00af00; text-decoration-color: #00af00\">0</span> (0.00 B)\n",
              "</pre>\n"
            ]
          },
          "metadata": {}
        }
      ]
    },
    {
      "cell_type": "code",
      "source": [
        "num_epochs = 30\n",
        "history = model.fit(np_training_data, np_training_labels, epochs=num_epochs, validation_data=(np_testing_data, np_testing_labels), verbose=2)"
      ],
      "metadata": {
        "colab": {
          "base_uri": "https://localhost:8080/"
        },
        "id": "7oZWpZqX_49r",
        "outputId": "18e5995f-214c-4ea4-876b-2addf07f9b9f"
      },
      "execution_count": 39,
      "outputs": [
        {
          "output_type": "stream",
          "name": "stdout",
          "text": [
            "Epoch 1/30\n",
            "625/625 - 6s - 10ms/step - accuracy: 0.6554 - loss: 0.6073 - val_accuracy: 0.7843 - val_loss: 0.4680\n",
            "Epoch 2/30\n",
            "625/625 - 3s - 5ms/step - accuracy: 0.8447 - loss: 0.3719 - val_accuracy: 0.8228 - val_loss: 0.3866\n",
            "Epoch 3/30\n",
            "625/625 - 5s - 8ms/step - accuracy: 0.8842 - loss: 0.2867 - val_accuracy: 0.8495 - val_loss: 0.3497\n",
            "Epoch 4/30\n",
            "625/625 - 4s - 6ms/step - accuracy: 0.9067 - loss: 0.2383 - val_accuracy: 0.8580 - val_loss: 0.3439\n",
            "Epoch 5/30\n",
            "625/625 - 4s - 7ms/step - accuracy: 0.9206 - loss: 0.2033 - val_accuracy: 0.8547 - val_loss: 0.3538\n",
            "Epoch 6/30\n",
            "625/625 - 5s - 9ms/step - accuracy: 0.9299 - loss: 0.1809 - val_accuracy: 0.8465 - val_loss: 0.3848\n",
            "Epoch 7/30\n",
            "625/625 - 4s - 7ms/step - accuracy: 0.9410 - loss: 0.1563 - val_accuracy: 0.8496 - val_loss: 0.3897\n",
            "Epoch 8/30\n",
            "625/625 - 4s - 6ms/step - accuracy: 0.9482 - loss: 0.1418 - val_accuracy: 0.8468 - val_loss: 0.4144\n",
            "Epoch 9/30\n",
            "625/625 - 3s - 5ms/step - accuracy: 0.9528 - loss: 0.1288 - val_accuracy: 0.8272 - val_loss: 0.4889\n",
            "Epoch 10/30\n",
            "625/625 - 4s - 6ms/step - accuracy: 0.9581 - loss: 0.1150 - val_accuracy: 0.8448 - val_loss: 0.4601\n",
            "Epoch 11/30\n",
            "625/625 - 5s - 8ms/step - accuracy: 0.9614 - loss: 0.1066 - val_accuracy: 0.8344 - val_loss: 0.5020\n",
            "Epoch 12/30\n",
            "625/625 - 4s - 7ms/step - accuracy: 0.9621 - loss: 0.0995 - val_accuracy: 0.8271 - val_loss: 0.5587\n",
            "Epoch 13/30\n",
            "625/625 - 4s - 7ms/step - accuracy: 0.9664 - loss: 0.0924 - val_accuracy: 0.8189 - val_loss: 0.6319\n",
            "Epoch 14/30\n",
            "625/625 - 3s - 5ms/step - accuracy: 0.9691 - loss: 0.0858 - val_accuracy: 0.8211 - val_loss: 0.6407\n",
            "Epoch 15/30\n",
            "625/625 - 4s - 6ms/step - accuracy: 0.9718 - loss: 0.0789 - val_accuracy: 0.8332 - val_loss: 0.5952\n",
            "Epoch 16/30\n",
            "625/625 - 5s - 9ms/step - accuracy: 0.9741 - loss: 0.0742 - val_accuracy: 0.8193 - val_loss: 0.6725\n",
            "Epoch 17/30\n",
            "625/625 - 4s - 6ms/step - accuracy: 0.9751 - loss: 0.0689 - val_accuracy: 0.8201 - val_loss: 0.6910\n",
            "Epoch 18/30\n",
            "625/625 - 3s - 5ms/step - accuracy: 0.9765 - loss: 0.0651 - val_accuracy: 0.8281 - val_loss: 0.6886\n",
            "Epoch 19/30\n",
            "625/625 - 4s - 7ms/step - accuracy: 0.9808 - loss: 0.0566 - val_accuracy: 0.8274 - val_loss: 0.7220\n",
            "Epoch 20/30\n",
            "625/625 - 4s - 6ms/step - accuracy: 0.9803 - loss: 0.0580 - val_accuracy: 0.8264 - val_loss: 0.7428\n",
            "Epoch 21/30\n",
            "625/625 - 5s - 8ms/step - accuracy: 0.9816 - loss: 0.0525 - val_accuracy: 0.8189 - val_loss: 0.7968\n",
            "Epoch 22/30\n",
            "625/625 - 7s - 11ms/step - accuracy: 0.9820 - loss: 0.0514 - val_accuracy: 0.8232 - val_loss: 0.8016\n",
            "Epoch 23/30\n",
            "625/625 - 4s - 7ms/step - accuracy: 0.9833 - loss: 0.0471 - val_accuracy: 0.8122 - val_loss: 0.9122\n",
            "Epoch 24/30\n",
            "625/625 - 4s - 6ms/step - accuracy: 0.9841 - loss: 0.0444 - val_accuracy: 0.8171 - val_loss: 0.8664\n",
            "Epoch 25/30\n",
            "625/625 - 5s - 8ms/step - accuracy: 0.9866 - loss: 0.0393 - val_accuracy: 0.8132 - val_loss: 0.9240\n",
            "Epoch 26/30\n",
            "625/625 - 3s - 5ms/step - accuracy: 0.9875 - loss: 0.0371 - val_accuracy: 0.8126 - val_loss: 0.9827\n",
            "Epoch 27/30\n",
            "625/625 - 3s - 5ms/step - accuracy: 0.9884 - loss: 0.0348 - val_accuracy: 0.8155 - val_loss: 0.9858\n",
            "Epoch 28/30\n",
            "625/625 - 5s - 8ms/step - accuracy: 0.9884 - loss: 0.0347 - val_accuracy: 0.8119 - val_loss: 1.0033\n",
            "Epoch 29/30\n",
            "625/625 - 4s - 6ms/step - accuracy: 0.9882 - loss: 0.0351 - val_accuracy: 0.8128 - val_loss: 1.1089\n",
            "Epoch 30/30\n",
            "625/625 - 5s - 8ms/step - accuracy: 0.9895 - loss: 0.0304 - val_accuracy: 0.8027 - val_loss: 1.2675\n"
          ]
        }
      ]
    },
    {
      "cell_type": "code",
      "source": [
        "import matplotlib.pyplot as plt\n",
        "\n",
        "\n",
        "def plot_graphs(history, string):\n",
        "  plt.plot(history.history[string])\n",
        "  plt.plot(history.history['val_'+string])\n",
        "  plt.xlabel(\"Epochs\")\n",
        "  plt.ylabel(string)\n",
        "  plt.legend([string, 'val_'+string])\n",
        "  plt.show()\n",
        "\n",
        "plot_graphs(history, \"accuracy\")\n",
        "plot_graphs(history, \"loss\")"
      ],
      "metadata": {
        "colab": {
          "base_uri": "https://localhost:8080/",
          "height": 881
        },
        "id": "YlwtVSDgAnaK",
        "outputId": "554c6aa3-b53b-4e64-e540-a9bc37ae16b6"
      },
      "execution_count": 40,
      "outputs": [
        {
          "output_type": "display_data",
          "data": {
            "text/plain": [
              "<Figure size 640x480 with 1 Axes>"
            ],
            "image/png": "[encoded data removed]"
          },
          "metadata": {}
        },
        {
          "output_type": "display_data",
          "data": {
            "text/plain": [
              "<Figure size 640x480 with 1 Axes>"
            ],
            "image/png": "[encoded data removed]"
          },
          "metadata": {}
        }
      ]
    },
    {
      "cell_type": "code",
      "source": [
        "sentence = [\"granny starting to fear spiders in the garden might be real\", \"game of thrones season finale showing this sunday night\"]\n",
        "sequences = tokenizer.texts_to_sequences(sentence)\n",
        "padded = pad_sequences(sequences, maxlen=pad_max_length, padding=pad_seq_padding, truncating=pad_seq_truncate)\n",
        "print(model.predict(padded))"
      ],
      "metadata": {
        "colab": {
          "base_uri": "https://localhost:8080/"
        },
        "id": "-PjcqmoIBlxz",
        "outputId": "c8f9c7d3-5956-4d31-ec1b-b47a4a82695b"
      },
      "execution_count": 41,
      "outputs": [
        {
          "output_type": "stream",
          "name": "stdout",
          "text": [
            "\u001b[1m1/1\u001b[0m \u001b[32m━━━━━━━━━━━━━━━━━━━━\u001b[0m\u001b[37m\u001b[0m \u001b[1m0s\u001b[0m 93ms/step\n",
            "[[8.4859751e-02]\n",
            " [2.1023743e-06]]\n"
          ]
        }
      ]
    }
  ]
}