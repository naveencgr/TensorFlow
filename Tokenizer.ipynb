{
  "nbformat": 4,
  "nbformat_minor": 0,
  "metadata": {
    "colab": {
      "provenance": [],
      "authorship_tag": "ABX9TyNZC2NTFqVkaqUwzWU92bMT",
      "include_colab_link": true
    },
    "kernelspec": {
      "name": "python3",
      "display_name": "Python 3"
    },
    "language_info": {
      "name": "python"
    }
  },
  "cells": [
    {
      "cell_type": "markdown",
      "metadata": {
        "id": "view-in-github",
        "colab_type": "text"
      },
      "source": [
        "<a href=\"https://colab.research.google.com/github/naveencgr/TensorFlow/blob/main/Tokenizer.ipynb\" target=\"_parent\"><img src=\"https://colab.research.google.com/assets/colab-badge.svg\" alt=\"Open In Colab\"/></a>"
      ]
    },
    {
      "cell_type": "code",
      "execution_count": 12,
      "metadata": {
        "colab": {
          "base_uri": "https://localhost:8080/"
        },
        "id": "67FXQ28Cg5Nb",
        "outputId": "b28b3dec-f25f-4e6a-b313-42997ef0ccd6"
      },
      "outputs": [
        {
          "output_type": "stream",
          "name": "stdout",
          "text": [
            "word indexes --> {'i': 1, 'you': 2, 'this': 3, 'are': 4, 'have': 5, 'a': 6, 'dog': 7, 'love': 8, 'is': 9, 'ridiculous': 10, 'how': 11, 'why': 12, 'doing': 13}\n",
            "sequences -->[[1, 5, 6, 7], [1, 8, 2], [3, 9, 10], [11, 4, 2], [12, 4, 13, 3]]\n",
            "padded post sequence-->[[ 1  5  6  7]\n",
            " [ 1  8  2  0]\n",
            " [ 3  9 10  0]\n",
            " [11  4  2  0]\n",
            " [12  4 13  3]]\n",
            "padded pre sequence-->[[ 1  5  6  7]\n",
            " [ 0  1  8  2]\n",
            " [ 0  3  9 10]\n",
            " [ 0 11  4  2]\n",
            " [12  4 13  3]]\n",
            "padded default sequence-->[[ 1  5  6  7]\n",
            " [ 0  1  8  2]\n",
            " [ 0  3  9 10]\n",
            " [ 0 11  4  2]\n",
            " [12  4 13  3]]\n",
            "padded default sequence-->[[ 1  5  6]\n",
            " [ 1  8  2]\n",
            " [ 3  9 10]\n",
            " [11  4  2]\n",
            " [12  4 13]]\n"
          ]
        }
      ],
      "source": [
        "from tensorflow.keras.preprocessing.text import Tokenizer\n",
        "from tensorflow.keras.preprocessing.sequence import pad_sequences\n",
        "\n",
        "messages = [\n",
        "    \"I have a dog\",\n",
        "    \"I love you\",\n",
        "    \"This is ridiculous\",\n",
        "    \"How are you\",\n",
        "    \"Why are doing this?\"\n",
        "]\n",
        "\n",
        "tokenizer = Tokenizer(num_words=100)\n",
        "tokenizer.fit_on_texts(messages)\n",
        "word_index = tokenizer.word_index\n",
        "print(f\"word indexes --> {word_index}\")\n",
        "\n",
        "sequences = tokenizer.texts_to_sequences(messages)\n",
        "print(f\"sequences -->{sequences}\")\n",
        "\n",
        "padded_post = pad_sequences(sequences, padding=\"post\")\n",
        "\n",
        "print(f\"padded post sequence-->{padded_post}\")\n",
        "\n",
        "padded_pre = pad_sequences(sequences, padding=\"pre\")\n",
        "\n",
        "print(f\"padded pre sequence-->{padded_pre}\")\n",
        "\n",
        "padded_default = pad_sequences(sequences)\n",
        "\n",
        "print(f\"padded default sequence-->{padded_default}\")\n",
        "\n",
        "padded_default_max_length = pad_sequences(sequences, maxlen=3, truncating=\"post\")\n",
        "\n",
        "print(f\"padded truncating post sequence-->{padded_default_max_length}\")\n",
        "\n",
        "\n"
      ]
    }
  ]
}